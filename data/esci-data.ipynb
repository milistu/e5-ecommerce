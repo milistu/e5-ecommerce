{
 "cells": [
  {
   "cell_type": "code",
   "execution_count": 16,
   "metadata": {},
   "outputs": [],
   "source": [
    "import os\n",
    "from pathlib import Path\n",
    "\n",
    "import pandas as pd\n",
    "from utils import create_and_push_dataset"
   ]
  },
  {
   "cell_type": "markdown",
   "metadata": {},
   "source": [
    "## Raw dataset\n",
    "Original dataset can be downloaded from [this link](https://github.com/amazon-science/esci-data/tree/main/shopping_queries_dataset)."
   ]
  },
  {
   "cell_type": "code",
   "execution_count": 2,
   "metadata": {},
   "outputs": [],
   "source": [
    "dataset_dir = Path(\"~/Datasets/amazon_science\").expanduser()\n",
    "assert dataset_dir.exists(), f\"{dataset_dir} does not exist\"\n",
    "dataset_sources = dataset_dir / \"shopping_queries_dataset_sources.csv\"\n",
    "assert dataset_sources.exists(), f\"{dataset_sources} does not exist\"\n",
    "dataset_examples = dataset_dir / \"shopping_queries_dataset_examples.parquet\"\n",
    "assert dataset_examples.exists(), f\"{dataset_examples} does not exist\"\n",
    "dataset_products = dataset_dir / \"shopping_queries_dataset_products.parquet\"\n",
    "assert dataset_products.exists(), f\"{dataset_products} does not exist\""
   ]
  },
  {
   "cell_type": "code",
   "execution_count": null,
   "metadata": {},
   "outputs": [],
   "source": [
    "repo_id = \"Studeni/amazon-esci-data\""
   ]
  },
  {
   "cell_type": "markdown",
   "metadata": {},
   "source": [
    "---"
   ]
  },
  {
   "cell_type": "markdown",
   "metadata": {},
   "source": [
    "### Examples/Queries"
   ]
  },
  {
   "cell_type": "code",
   "execution_count": 4,
   "metadata": {},
   "outputs": [
    {
     "name": "stdout",
     "output_type": "stream",
     "text": [
      "Number of rows in examples: 2_621_288\n"
     ]
    }
   ],
   "source": [
    "df_examples = pd.read_parquet(dataset_examples)\n",
    "print(f\"Number of rows in examples: {len(df_examples):_}\")"
   ]
  },
  {
   "cell_type": "code",
   "execution_count": 5,
   "metadata": {},
   "outputs": [
    {
     "data": {
      "text/html": [
       "<div>\n",
       "<style scoped>\n",
       "    .dataframe tbody tr th:only-of-type {\n",
       "        vertical-align: middle;\n",
       "    }\n",
       "\n",
       "    .dataframe tbody tr th {\n",
       "        vertical-align: top;\n",
       "    }\n",
       "\n",
       "    .dataframe thead th {\n",
       "        text-align: right;\n",
       "    }\n",
       "</style>\n",
       "<table border=\"1\" class=\"dataframe\">\n",
       "  <thead>\n",
       "    <tr style=\"text-align: right;\">\n",
       "      <th></th>\n",
       "      <th>example_id</th>\n",
       "      <th>query</th>\n",
       "      <th>query_id</th>\n",
       "      <th>product_id</th>\n",
       "      <th>product_locale</th>\n",
       "      <th>esci_label</th>\n",
       "      <th>small_version</th>\n",
       "      <th>large_version</th>\n",
       "      <th>split</th>\n",
       "    </tr>\n",
       "  </thead>\n",
       "  <tbody>\n",
       "    <tr>\n",
       "      <th>179644</th>\n",
       "      <td>179644</td>\n",
       "      <td>alfombras coche mitsubishi</td>\n",
       "      <td>7944</td>\n",
       "      <td>B07S354BMT</td>\n",
       "      <td>es</td>\n",
       "      <td>E</td>\n",
       "      <td>1</td>\n",
       "      <td>1</td>\n",
       "      <td>train</td>\n",
       "    </tr>\n",
       "    <tr>\n",
       "      <th>1318162</th>\n",
       "      <td>1318162</td>\n",
       "      <td>medicine measuring cups</td>\n",
       "      <td>66852</td>\n",
       "      <td>B07D5Q12K2</td>\n",
       "      <td>us</td>\n",
       "      <td>I</td>\n",
       "      <td>0</td>\n",
       "      <td>1</td>\n",
       "      <td>train</td>\n",
       "    </tr>\n",
       "    <tr>\n",
       "      <th>1768185</th>\n",
       "      <td>1768185</td>\n",
       "      <td>samsung note 8 smartphone</td>\n",
       "      <td>90228</td>\n",
       "      <td>B07Y1D52LV</td>\n",
       "      <td>es</td>\n",
       "      <td>S</td>\n",
       "      <td>0</td>\n",
       "      <td>1</td>\n",
       "      <td>train</td>\n",
       "    </tr>\n",
       "    <tr>\n",
       "      <th>1174982</th>\n",
       "      <td>1174982</td>\n",
       "      <td>lacoste shirts for men</td>\n",
       "      <td>59513</td>\n",
       "      <td>B0779NRH1Q</td>\n",
       "      <td>us</td>\n",
       "      <td>S</td>\n",
       "      <td>1</td>\n",
       "      <td>1</td>\n",
       "      <td>test</td>\n",
       "    </tr>\n",
       "    <tr>\n",
       "      <th>1636660</th>\n",
       "      <td>1636660</td>\n",
       "      <td>print dress</td>\n",
       "      <td>83397</td>\n",
       "      <td>B071SDSKHF</td>\n",
       "      <td>us</td>\n",
       "      <td>E</td>\n",
       "      <td>0</td>\n",
       "      <td>1</td>\n",
       "      <td>test</td>\n",
       "    </tr>\n",
       "  </tbody>\n",
       "</table>\n",
       "</div>"
      ],
      "text/plain": [
       "         example_id                       query  query_id  product_id  \\\n",
       "179644       179644  alfombras coche mitsubishi      7944  B07S354BMT   \n",
       "1318162     1318162     medicine measuring cups     66852  B07D5Q12K2   \n",
       "1768185     1768185   samsung note 8 smartphone     90228  B07Y1D52LV   \n",
       "1174982     1174982      lacoste shirts for men     59513  B0779NRH1Q   \n",
       "1636660     1636660                 print dress     83397  B071SDSKHF   \n",
       "\n",
       "        product_locale esci_label  small_version  large_version  split  \n",
       "179644              es          E              1              1  train  \n",
       "1318162             us          I              0              1  train  \n",
       "1768185             es          S              0              1  train  \n",
       "1174982             us          S              1              1   test  \n",
       "1636660             us          E              0              1   test  "
      ]
     },
     "execution_count": 5,
     "metadata": {},
     "output_type": "execute_result"
    }
   ],
   "source": [
    "df_examples.sample(5)"
   ]
  },
  {
   "cell_type": "code",
   "execution_count": null,
   "metadata": {},
   "outputs": [],
   "source": [
    "create_and_push_dataset(\n",
    "    df=df_examples,\n",
    "    repo_id=repo_id,\n",
    "    hf_token=os.environ[\"HF_TOKEN\"],\n",
    "    config_name=\"queries\",\n",
    ")"
   ]
  },
  {
   "cell_type": "markdown",
   "metadata": {},
   "source": [
    "---"
   ]
  },
  {
   "cell_type": "markdown",
   "metadata": {},
   "source": [
    "### Products"
   ]
  },
  {
   "cell_type": "code",
   "execution_count": 6,
   "metadata": {},
   "outputs": [
    {
     "name": "stdout",
     "output_type": "stream",
     "text": [
      "Number of rows in products: 1_814_924\n"
     ]
    }
   ],
   "source": [
    "df_products = pd.read_parquet(dataset_products)\n",
    "print(f\"Number of rows in products: {len(df_products):_}\")"
   ]
  },
  {
   "cell_type": "code",
   "execution_count": 7,
   "metadata": {},
   "outputs": [
    {
     "data": {
      "text/html": [
       "<div>\n",
       "<style scoped>\n",
       "    .dataframe tbody tr th:only-of-type {\n",
       "        vertical-align: middle;\n",
       "    }\n",
       "\n",
       "    .dataframe tbody tr th {\n",
       "        vertical-align: top;\n",
       "    }\n",
       "\n",
       "    .dataframe thead th {\n",
       "        text-align: right;\n",
       "    }\n",
       "</style>\n",
       "<table border=\"1\" class=\"dataframe\">\n",
       "  <thead>\n",
       "    <tr style=\"text-align: right;\">\n",
       "      <th></th>\n",
       "      <th>product_id</th>\n",
       "      <th>product_title</th>\n",
       "      <th>product_description</th>\n",
       "      <th>product_bullet_point</th>\n",
       "      <th>product_brand</th>\n",
       "      <th>product_color</th>\n",
       "      <th>product_locale</th>\n",
       "    </tr>\n",
       "  </thead>\n",
       "  <tbody>\n",
       "    <tr>\n",
       "      <th>43480</th>\n",
       "      <td>B07H3Q5XKL</td>\n",
       "      <td>Retro-Bit Official SEGA Saturn Cool Pad [Impor...</td>\n",
       "      <td>Compatible con las consolas SEGA Saturn origin...</td>\n",
       "      <td>None</td>\n",
       "      <td>retro-bit</td>\n",
       "      <td>None</td>\n",
       "      <td>es</td>\n",
       "    </tr>\n",
       "    <tr>\n",
       "      <th>1686552</th>\n",
       "      <td>B00ICYHWX4</td>\n",
       "      <td>Linguistics: A Complete Introduction: Teach Yo...</td>\n",
       "      <td>&lt;p&gt;Written by David Hornsby, who is a current ...</td>\n",
       "      <td>None</td>\n",
       "      <td>None</td>\n",
       "      <td>None</td>\n",
       "      <td>us</td>\n",
       "    </tr>\n",
       "    <tr>\n",
       "      <th>967738</th>\n",
       "      <td>B07MYX1GN7</td>\n",
       "      <td>OLFA 替刃(M厚)20枚入 MTB20K</td>\n",
       "      <td>None</td>\n",
       "      <td>全長(mm)：83\\n刃厚(mm)：0.45\\n適合本体：203B・237B\\n刃長(mm)...</td>\n",
       "      <td>オルファ(OLFA)</td>\n",
       "      <td>None</td>\n",
       "      <td>jp</td>\n",
       "    </tr>\n",
       "    <tr>\n",
       "      <th>1058684</th>\n",
       "      <td>B0993979ZZ</td>\n",
       "      <td>YOVEKAT 女性の女の子のレトロな男は、誕生日の結婚式アクセサリーのための真珠の王冠の花...</td>\n",
       "      <td>&lt;p&gt;特徴：&lt;/p&gt; &lt;p&gt;&lt;/p&gt; &lt;p&gt;素晴らしい技量で高品質材料でできている。&lt;/p&gt;...</td>\n",
       "      <td>サイズ：直径：12 cm（4.72インチ）高さ：7.5センチメートル（2.95インチ）。\\n...</td>\n",
       "      <td>YOVEKAT</td>\n",
       "      <td>None</td>\n",
       "      <td>jp</td>\n",
       "    </tr>\n",
       "    <tr>\n",
       "      <th>134368</th>\n",
       "      <td>B00BGHBUFU</td>\n",
       "      <td>Gabol - Week | Bolso con Ruedas de Viaje Grand...</td>\n",
       "      <td>None</td>\n",
       "      <td>Bolso grande con ruedas idónea para viajes lar...</td>\n",
       "      <td>Gabol</td>\n",
       "      <td>Negro</td>\n",
       "      <td>es</td>\n",
       "    </tr>\n",
       "  </tbody>\n",
       "</table>\n",
       "</div>"
      ],
      "text/plain": [
       "         product_id                                      product_title  \\\n",
       "43480    B07H3Q5XKL  Retro-Bit Official SEGA Saturn Cool Pad [Impor...   \n",
       "1686552  B00ICYHWX4  Linguistics: A Complete Introduction: Teach Yo...   \n",
       "967738   B07MYX1GN7                             OLFA 替刃(M厚)20枚入 MTB20K   \n",
       "1058684  B0993979ZZ  YOVEKAT 女性の女の子のレトロな男は、誕生日の結婚式アクセサリーのための真珠の王冠の花...   \n",
       "134368   B00BGHBUFU  Gabol - Week | Bolso con Ruedas de Viaje Grand...   \n",
       "\n",
       "                                       product_description  \\\n",
       "43480    Compatible con las consolas SEGA Saturn origin...   \n",
       "1686552  <p>Written by David Hornsby, who is a current ...   \n",
       "967738                                                None   \n",
       "1058684  <p>特徴：</p> <p></p> <p>素晴らしい技量で高品質材料でできている。</p>...   \n",
       "134368                                                None   \n",
       "\n",
       "                                      product_bullet_point product_brand  \\\n",
       "43480                                                 None     retro-bit   \n",
       "1686552                                               None          None   \n",
       "967738   全長(mm)：83\\n刃厚(mm)：0.45\\n適合本体：203B・237B\\n刃長(mm)...    オルファ(OLFA)   \n",
       "1058684  サイズ：直径：12 cm（4.72インチ）高さ：7.5センチメートル（2.95インチ）。\\n...       YOVEKAT   \n",
       "134368   Bolso grande con ruedas idónea para viajes lar...         Gabol   \n",
       "\n",
       "        product_color product_locale  \n",
       "43480            None             es  \n",
       "1686552          None             us  \n",
       "967738           None             jp  \n",
       "1058684          None             jp  \n",
       "134368          Negro             es  "
      ]
     },
     "execution_count": 7,
     "metadata": {},
     "output_type": "execute_result"
    }
   ],
   "source": [
    "df_products.sample(5)"
   ]
  },
  {
   "cell_type": "code",
   "execution_count": 8,
   "metadata": {},
   "outputs": [
    {
     "name": "stdout",
     "output_type": "stream",
     "text": [
      "Number of rows in products with split: 1_814_924\n"
     ]
    },
    {
     "data": {
      "text/html": [
       "<div>\n",
       "<style scoped>\n",
       "    .dataframe tbody tr th:only-of-type {\n",
       "        vertical-align: middle;\n",
       "    }\n",
       "\n",
       "    .dataframe tbody tr th {\n",
       "        vertical-align: top;\n",
       "    }\n",
       "\n",
       "    .dataframe thead th {\n",
       "        text-align: right;\n",
       "    }\n",
       "</style>\n",
       "<table border=\"1\" class=\"dataframe\">\n",
       "  <thead>\n",
       "    <tr style=\"text-align: right;\">\n",
       "      <th></th>\n",
       "      <th>product_id</th>\n",
       "      <th>product_title</th>\n",
       "      <th>product_description</th>\n",
       "      <th>product_bullet_point</th>\n",
       "      <th>product_brand</th>\n",
       "      <th>product_color</th>\n",
       "      <th>product_locale</th>\n",
       "      <th>split</th>\n",
       "    </tr>\n",
       "  </thead>\n",
       "  <tbody>\n",
       "    <tr>\n",
       "      <th>1625542</th>\n",
       "      <td>B07ZVRFYHM</td>\n",
       "      <td>Wonderience Neoprene Sauna Suit for Men Waist ...</td>\n",
       "      <td>&lt;p&gt; Wonderience Neoprene Sauna Suit for Men Wa...</td>\n",
       "      <td>READY FOR SAUNA SWEAT:This 2-in-1 vest and wai...</td>\n",
       "      <td>Wonderience</td>\n",
       "      <td>Black</td>\n",
       "      <td>us</td>\n",
       "      <td>train</td>\n",
       "    </tr>\n",
       "    <tr>\n",
       "      <th>1057750</th>\n",
       "      <td>4062700735</td>\n",
       "      <td>特別編成 山陽・九州新幹線ライン 全線・全駅・全配線 (【図説】日本の鉄道)</td>\n",
       "      <td>None</td>\n",
       "      <td>None</td>\n",
       "      <td>講談社</td>\n",
       "      <td>None</td>\n",
       "      <td>jp</td>\n",
       "      <td>train</td>\n",
       "    </tr>\n",
       "    <tr>\n",
       "      <th>546902</th>\n",
       "      <td>B00N9IJP06</td>\n",
       "      <td>Nerf Dog Rubber Ball Dog Toy with Checkered Sq...</td>\n",
       "      <td>None</td>\n",
       "      <td>NERF-TOUGH: Nerf-quality materials make our sq...</td>\n",
       "      <td>Nerf Dog</td>\n",
       "      <td>Red</td>\n",
       "      <td>us</td>\n",
       "      <td>train</td>\n",
       "    </tr>\n",
       "    <tr>\n",
       "      <th>1163763</th>\n",
       "      <td>8417549749</td>\n",
       "      <td>Batman: Harvest Breed</td>\n",
       "      <td>None</td>\n",
       "      <td>None</td>\n",
       "      <td>ECC Ediciones</td>\n",
       "      <td>None</td>\n",
       "      <td>es</td>\n",
       "      <td>train</td>\n",
       "    </tr>\n",
       "    <tr>\n",
       "      <th>660362</th>\n",
       "      <td>B01C65DDSW</td>\n",
       "      <td>2lbDepot Shower Curtain Rings Hooks - Bronze F...</td>\n",
       "      <td>&lt;p&gt;Our premium quality 2LB Depot double glide ...</td>\n",
       "      <td>★ SHOWER CURTAIN RINGS HOOKS ★ 2LB Depot premi...</td>\n",
       "      <td>2 Lb. Depot</td>\n",
       "      <td>Oil Rubbed Bronze</td>\n",
       "      <td>us</td>\n",
       "      <td>train</td>\n",
       "    </tr>\n",
       "  </tbody>\n",
       "</table>\n",
       "</div>"
      ],
      "text/plain": [
       "         product_id                                      product_title  \\\n",
       "1625542  B07ZVRFYHM  Wonderience Neoprene Sauna Suit for Men Waist ...   \n",
       "1057750  4062700735             特別編成 山陽・九州新幹線ライン 全線・全駅・全配線 (【図説】日本の鉄道)   \n",
       "546902   B00N9IJP06  Nerf Dog Rubber Ball Dog Toy with Checkered Sq...   \n",
       "1163763  8417549749                              Batman: Harvest Breed   \n",
       "660362   B01C65DDSW  2lbDepot Shower Curtain Rings Hooks - Bronze F...   \n",
       "\n",
       "                                       product_description  \\\n",
       "1625542  <p> Wonderience Neoprene Sauna Suit for Men Wa...   \n",
       "1057750                                               None   \n",
       "546902                                                None   \n",
       "1163763                                               None   \n",
       "660362   <p>Our premium quality 2LB Depot double glide ...   \n",
       "\n",
       "                                      product_bullet_point  product_brand  \\\n",
       "1625542  READY FOR SAUNA SWEAT:This 2-in-1 vest and wai...    Wonderience   \n",
       "1057750                                               None            講談社   \n",
       "546902   NERF-TOUGH: Nerf-quality materials make our sq...       Nerf Dog   \n",
       "1163763                                               None  ECC Ediciones   \n",
       "660362   ★ SHOWER CURTAIN RINGS HOOKS ★ 2LB Depot premi...    2 Lb. Depot   \n",
       "\n",
       "             product_color product_locale  split  \n",
       "1625542              Black             us  train  \n",
       "1057750               None             jp  train  \n",
       "546902                 Red             us  train  \n",
       "1163763               None             es  train  \n",
       "660362   Oil Rubbed Bronze             us  train  "
      ]
     },
     "execution_count": 8,
     "metadata": {},
     "output_type": "execute_result"
    }
   ],
   "source": [
    "df_products = pd.merge(\n",
    "    df_products,\n",
    "    df_examples[[\"product_id\", \"split\"]].drop_duplicates(subset=[\"product_id\"]),\n",
    "    on=\"product_id\",\n",
    "    how=\"left\",\n",
    ")\n",
    "print(f\"Number of rows in products with split: {len(df_products):_}\")\n",
    "df_products.sample(5)"
   ]
  },
  {
   "cell_type": "code",
   "execution_count": null,
   "metadata": {},
   "outputs": [],
   "source": [
    "create_and_push_dataset(\n",
    "    df=df_products,\n",
    "    repo_id=repo_id,\n",
    "    hf_token=os.environ[\"HF_TOKEN\"],\n",
    "    config_name=\"products\",\n",
    ")"
   ]
  },
  {
   "cell_type": "code",
   "execution_count": 10,
   "metadata": {},
   "outputs": [],
   "source": [
    "del df_products"
   ]
  },
  {
   "cell_type": "markdown",
   "metadata": {},
   "source": [
    "---"
   ]
  },
  {
   "cell_type": "markdown",
   "metadata": {},
   "source": [
    "## Soruces"
   ]
  },
  {
   "cell_type": "code",
   "execution_count": 11,
   "metadata": {},
   "outputs": [
    {
     "name": "stdout",
     "output_type": "stream",
     "text": [
      "Number of rows in sources: 130_652\n"
     ]
    }
   ],
   "source": [
    "df_sources = pd.read_csv(dataset_sources)\n",
    "print(f\"Number of rows in sources: {len(df_sources):_}\")"
   ]
  },
  {
   "cell_type": "code",
   "execution_count": null,
   "metadata": {},
   "outputs": [
    {
     "data": {
      "text/plain": [
       "array(['other', 'negations', 'behavioral', 'parse_pattern', 'nlqec'],\n",
       "      dtype=object)"
      ]
     },
     "execution_count": 14,
     "metadata": {},
     "output_type": "execute_result"
    }
   ],
   "source": [
    "df_sources[\"source\"].unique()"
   ]
  },
  {
   "cell_type": "code",
   "execution_count": 12,
   "metadata": {},
   "outputs": [
    {
     "data": {
      "text/html": [
       "<div>\n",
       "<style scoped>\n",
       "    .dataframe tbody tr th:only-of-type {\n",
       "        vertical-align: middle;\n",
       "    }\n",
       "\n",
       "    .dataframe tbody tr th {\n",
       "        vertical-align: top;\n",
       "    }\n",
       "\n",
       "    .dataframe thead th {\n",
       "        text-align: right;\n",
       "    }\n",
       "</style>\n",
       "<table border=\"1\" class=\"dataframe\">\n",
       "  <thead>\n",
       "    <tr style=\"text-align: right;\">\n",
       "      <th></th>\n",
       "      <th>query_id</th>\n",
       "      <th>source</th>\n",
       "    </tr>\n",
       "  </thead>\n",
       "  <tbody>\n",
       "    <tr>\n",
       "      <th>0</th>\n",
       "      <td>0</td>\n",
       "      <td>other</td>\n",
       "    </tr>\n",
       "    <tr>\n",
       "      <th>1</th>\n",
       "      <td>1</td>\n",
       "      <td>negations</td>\n",
       "    </tr>\n",
       "    <tr>\n",
       "      <th>2</th>\n",
       "      <td>2</td>\n",
       "      <td>negations</td>\n",
       "    </tr>\n",
       "    <tr>\n",
       "      <th>3</th>\n",
       "      <td>3</td>\n",
       "      <td>negations</td>\n",
       "    </tr>\n",
       "    <tr>\n",
       "      <th>4</th>\n",
       "      <td>4</td>\n",
       "      <td>behavioral</td>\n",
       "    </tr>\n",
       "  </tbody>\n",
       "</table>\n",
       "</div>"
      ],
      "text/plain": [
       "   query_id      source\n",
       "0         0       other\n",
       "1         1   negations\n",
       "2         2   negations\n",
       "3         3   negations\n",
       "4         4  behavioral"
      ]
     },
     "execution_count": 12,
     "metadata": {},
     "output_type": "execute_result"
    }
   ],
   "source": [
    "df_sources.head()"
   ]
  },
  {
   "cell_type": "code",
   "execution_count": 13,
   "metadata": {},
   "outputs": [
    {
     "name": "stdout",
     "output_type": "stream",
     "text": [
      "Number of rows in products with split: 130_652\n"
     ]
    },
    {
     "data": {
      "text/html": [
       "<div>\n",
       "<style scoped>\n",
       "    .dataframe tbody tr th:only-of-type {\n",
       "        vertical-align: middle;\n",
       "    }\n",
       "\n",
       "    .dataframe tbody tr th {\n",
       "        vertical-align: top;\n",
       "    }\n",
       "\n",
       "    .dataframe thead th {\n",
       "        text-align: right;\n",
       "    }\n",
       "</style>\n",
       "<table border=\"1\" class=\"dataframe\">\n",
       "  <thead>\n",
       "    <tr style=\"text-align: right;\">\n",
       "      <th></th>\n",
       "      <th>query_id</th>\n",
       "      <th>source</th>\n",
       "      <th>split</th>\n",
       "    </tr>\n",
       "  </thead>\n",
       "  <tbody>\n",
       "    <tr>\n",
       "      <th>118736</th>\n",
       "      <td>118736</td>\n",
       "      <td>other</td>\n",
       "      <td>train</td>\n",
       "    </tr>\n",
       "    <tr>\n",
       "      <th>59166</th>\n",
       "      <td>59166</td>\n",
       "      <td>other</td>\n",
       "      <td>train</td>\n",
       "    </tr>\n",
       "    <tr>\n",
       "      <th>22648</th>\n",
       "      <td>22648</td>\n",
       "      <td>negations</td>\n",
       "      <td>test</td>\n",
       "    </tr>\n",
       "    <tr>\n",
       "      <th>100973</th>\n",
       "      <td>100973</td>\n",
       "      <td>other</td>\n",
       "      <td>train</td>\n",
       "    </tr>\n",
       "    <tr>\n",
       "      <th>120314</th>\n",
       "      <td>120314</td>\n",
       "      <td>other</td>\n",
       "      <td>test</td>\n",
       "    </tr>\n",
       "  </tbody>\n",
       "</table>\n",
       "</div>"
      ],
      "text/plain": [
       "        query_id     source  split\n",
       "118736    118736      other  train\n",
       "59166      59166      other  train\n",
       "22648      22648  negations   test\n",
       "100973    100973      other  train\n",
       "120314    120314      other   test"
      ]
     },
     "execution_count": 13,
     "metadata": {},
     "output_type": "execute_result"
    }
   ],
   "source": [
    "df_sources = pd.merge(\n",
    "    df_sources,\n",
    "    df_examples[[\"query_id\", \"split\"]].drop_duplicates(subset=[\"query_id\"]),\n",
    "    on=\"query_id\",\n",
    "    how=\"left\",\n",
    ")\n",
    "print(f\"Number of rows in products with split: {len(df_sources):_}\")\n",
    "df_sources.sample(5)"
   ]
  },
  {
   "cell_type": "code",
   "execution_count": null,
   "metadata": {},
   "outputs": [],
   "source": [
    "create_and_push_dataset(\n",
    "    df=df_sources,\n",
    "    repo_id=repo_id,\n",
    "    hf_token=os.environ[\"HF_TOKEN\"],\n",
    "    config_name=\"sources\",\n",
    ")"
   ]
  }
 ],
 "metadata": {
  "kernelspec": {
   "display_name": ".venv",
   "language": "python",
   "name": "python3"
  },
  "language_info": {
   "codemirror_mode": {
    "name": "ipython",
    "version": 3
   },
   "file_extension": ".py",
   "mimetype": "text/x-python",
   "name": "python",
   "nbconvert_exporter": "python",
   "pygments_lexer": "ipython3",
   "version": "3.10.13"
  }
 },
 "nbformat": 4,
 "nbformat_minor": 2
}
