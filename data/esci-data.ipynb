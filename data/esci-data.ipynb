{
 "cells": [
  {
   "cell_type": "code",
   "execution_count": 37,
   "metadata": {},
   "outputs": [],
   "source": [
    "from pathlib import Path\n",
    "\n",
    "import pandas as pd\n",
    "from datasets import Dataset, DatasetDict, load_dataset"
   ]
  },
  {
   "cell_type": "markdown",
   "metadata": {},
   "source": [
    "## Raw dataset\n",
    "Original dataset can be downloaded from [this link](https://github.com/amazon-science/esci-data/tree/main/shopping_queries_dataset)."
   ]
  },
  {
   "cell_type": "code",
   "execution_count": 14,
   "metadata": {},
   "outputs": [],
   "source": [
    "dataset_dir = Path(\"~/Datasets/amazon_science\").expanduser()\n",
    "assert dataset_dir.exists(), f\"{dataset_dir} does not exist\"\n",
    "dataset_sources = dataset_dir / \"shopping_queries_dataset_sources.csv\"\n",
    "assert dataset_sources.exists(), f\"{dataset_sources} does not exist\"\n",
    "dataset_examples = dataset_dir / \"shopping_queries_dataset_examples.parquet\"\n",
    "assert dataset_examples.exists(), f\"{dataset_examples} does not exist\"\n",
    "dataset_products = dataset_dir / \"shopping_queries_dataset_products.parquet\"\n",
    "assert dataset_products.exists(), f\"{dataset_products} does not exist\""
   ]
  },
  {
   "cell_type": "markdown",
   "metadata": {},
   "source": [
    "---"
   ]
  },
  {
   "cell_type": "markdown",
   "metadata": {},
   "source": [
    "### Examples/Queries"
   ]
  },
  {
   "cell_type": "code",
   "execution_count": 25,
   "metadata": {},
   "outputs": [
    {
     "name": "stdout",
     "output_type": "stream",
     "text": [
      "Number of rows in examples: 2_621_288\n"
     ]
    }
   ],
   "source": [
    "df_examples = pd.read_parquet(dataset_examples)\n",
    "print(f\"Number of rows in examples: {len(df_examples):_}\")"
   ]
  },
  {
   "cell_type": "code",
   "execution_count": 22,
   "metadata": {},
   "outputs": [
    {
     "data": {
      "text/html": [
       "<div>\n",
       "<style scoped>\n",
       "    .dataframe tbody tr th:only-of-type {\n",
       "        vertical-align: middle;\n",
       "    }\n",
       "\n",
       "    .dataframe tbody tr th {\n",
       "        vertical-align: top;\n",
       "    }\n",
       "\n",
       "    .dataframe thead th {\n",
       "        text-align: right;\n",
       "    }\n",
       "</style>\n",
       "<table border=\"1\" class=\"dataframe\">\n",
       "  <thead>\n",
       "    <tr style=\"text-align: right;\">\n",
       "      <th></th>\n",
       "      <th>example_id</th>\n",
       "      <th>query</th>\n",
       "      <th>query_id</th>\n",
       "      <th>product_id</th>\n",
       "      <th>product_locale</th>\n",
       "      <th>esci_label</th>\n",
       "      <th>small_version</th>\n",
       "      <th>large_version</th>\n",
       "      <th>split</th>\n",
       "    </tr>\n",
       "  </thead>\n",
       "  <tbody>\n",
       "    <tr>\n",
       "      <th>1041802</th>\n",
       "      <td>1041802</td>\n",
       "      <td>ibuprofeno 600 mg</td>\n",
       "      <td>52571</td>\n",
       "      <td>B06Y5TPFRK</td>\n",
       "      <td>es</td>\n",
       "      <td>I</td>\n",
       "      <td>1</td>\n",
       "      <td>1</td>\n",
       "      <td>train</td>\n",
       "    </tr>\n",
       "    <tr>\n",
       "      <th>2188721</th>\n",
       "      <td>2188721</td>\n",
       "      <td>wireless router modem</td>\n",
       "      <td>112245</td>\n",
       "      <td>B07L9282JK</td>\n",
       "      <td>us</td>\n",
       "      <td>E</td>\n",
       "      <td>0</td>\n",
       "      <td>1</td>\n",
       "      <td>train</td>\n",
       "    </tr>\n",
       "    <tr>\n",
       "      <th>2027552</th>\n",
       "      <td>2027552</td>\n",
       "      <td>toilet bowl brush brushed nickel</td>\n",
       "      <td>103854</td>\n",
       "      <td>B07M71XTZY</td>\n",
       "      <td>us</td>\n",
       "      <td>E</td>\n",
       "      <td>0</td>\n",
       "      <td>1</td>\n",
       "      <td>train</td>\n",
       "    </tr>\n",
       "    <tr>\n",
       "      <th>1527707</th>\n",
       "      <td>1527707</td>\n",
       "      <td>paper towels</td>\n",
       "      <td>77744</td>\n",
       "      <td>B07TVKQJSG</td>\n",
       "      <td>us</td>\n",
       "      <td>E</td>\n",
       "      <td>0</td>\n",
       "      <td>1</td>\n",
       "      <td>test</td>\n",
       "    </tr>\n",
       "    <tr>\n",
       "      <th>703932</th>\n",
       "      <td>703932</td>\n",
       "      <td>double umbrella stroller</td>\n",
       "      <td>35032</td>\n",
       "      <td>B008TTQ2A6</td>\n",
       "      <td>us</td>\n",
       "      <td>E</td>\n",
       "      <td>0</td>\n",
       "      <td>1</td>\n",
       "      <td>train</td>\n",
       "    </tr>\n",
       "  </tbody>\n",
       "</table>\n",
       "</div>"
      ],
      "text/plain": [
       "         example_id                             query  query_id  product_id  \\\n",
       "1041802     1041802                 ibuprofeno 600 mg     52571  B06Y5TPFRK   \n",
       "2188721     2188721             wireless router modem    112245  B07L9282JK   \n",
       "2027552     2027552  toilet bowl brush brushed nickel    103854  B07M71XTZY   \n",
       "1527707     1527707                      paper towels     77744  B07TVKQJSG   \n",
       "703932       703932          double umbrella stroller     35032  B008TTQ2A6   \n",
       "\n",
       "        product_locale esci_label  small_version  large_version  split  \n",
       "1041802             es          I              1              1  train  \n",
       "2188721             us          E              0              1  train  \n",
       "2027552             us          E              0              1  train  \n",
       "1527707             us          E              0              1   test  \n",
       "703932              us          E              0              1  train  "
      ]
     },
     "execution_count": 22,
     "metadata": {},
     "output_type": "execute_result"
    }
   ],
   "source": [
    "df_examples.sample(5)"
   ]
  },
  {
   "cell_type": "markdown",
   "metadata": {},
   "source": [
    "---"
   ]
  },
  {
   "cell_type": "markdown",
   "metadata": {},
   "source": [
    "### Products"
   ]
  },
  {
   "cell_type": "code",
   "execution_count": 24,
   "metadata": {},
   "outputs": [
    {
     "name": "stdout",
     "output_type": "stream",
     "text": [
      "Number of rows in products: 1_814_924\n"
     ]
    }
   ],
   "source": [
    "df_products = pd.read_parquet(dataset_products)\n",
    "print(f\"Number of rows in products: {len(df_products):_}\")"
   ]
  },
  {
   "cell_type": "code",
   "execution_count": 34,
   "metadata": {},
   "outputs": [
    {
     "data": {
      "text/html": [
       "<div>\n",
       "<style scoped>\n",
       "    .dataframe tbody tr th:only-of-type {\n",
       "        vertical-align: middle;\n",
       "    }\n",
       "\n",
       "    .dataframe tbody tr th {\n",
       "        vertical-align: top;\n",
       "    }\n",
       "\n",
       "    .dataframe thead th {\n",
       "        text-align: right;\n",
       "    }\n",
       "</style>\n",
       "<table border=\"1\" class=\"dataframe\">\n",
       "  <thead>\n",
       "    <tr style=\"text-align: right;\">\n",
       "      <th></th>\n",
       "      <th>product_id</th>\n",
       "      <th>product_title</th>\n",
       "      <th>product_description</th>\n",
       "      <th>product_bullet_point</th>\n",
       "      <th>product_brand</th>\n",
       "      <th>product_color</th>\n",
       "      <th>product_locale</th>\n",
       "    </tr>\n",
       "  </thead>\n",
       "  <tbody>\n",
       "    <tr>\n",
       "      <th>1590968</th>\n",
       "      <td>B07SYNPCNH</td>\n",
       "      <td>Chihee Hammock Chair Super Large Hanging Chair...</td>\n",
       "      <td>Warning!&lt;br&gt;&lt;br&gt; Do not spin or swing in your ...</td>\n",
       "      <td>Most Relaxing.Hanging chairs are the trend of ...</td>\n",
       "      <td>Chihee</td>\n",
       "      <td>Natural White</td>\n",
       "      <td>us</td>\n",
       "    </tr>\n",
       "    <tr>\n",
       "      <th>1129378</th>\n",
       "      <td>B0841N8V7H</td>\n",
       "      <td>montesoro 単品 すき率10％ すきばさみ ヘアカット 美容師 散髪 セニング セル...</td>\n",
       "      <td>世界の最高級と謳われた 錆びにくく、切れ味が継続する素材、ステンレス炭素鉱440Cを採用　 ...</td>\n",
       "      <td>簡単♪プロ仕様カット】自宅で手軽にカット出来るプロ仕様\\n【素材へのこだわり】錆びにくい高い...</td>\n",
       "      <td>montesoro</td>\n",
       "      <td>None</td>\n",
       "      <td>jp</td>\n",
       "    </tr>\n",
       "    <tr>\n",
       "      <th>1022068</th>\n",
       "      <td>B087P27YWM</td>\n",
       "      <td>半ズボン 夏 速乾 おしゃれ 男 無地 ゆったり 通気性 gray M</td>\n",
       "      <td>None</td>\n",
       "      <td>★ 注意：日本通常サイズより1~2サイズ大きめなので、いつもより1~2つ小さいサイズのご購入...</td>\n",
       "      <td>SWRIKIIEF</td>\n",
       "      <td>グレー-3</td>\n",
       "      <td>jp</td>\n",
       "    </tr>\n",
       "    <tr>\n",
       "      <th>926527</th>\n",
       "      <td>B01BUROE6W</td>\n",
       "      <td>Omega-3 Krill Oil 750mg Supplement- Megared Ul...</td>\n",
       "      <td>None</td>\n",
       "      <td>Ultra concentrate 100% pure Krill oil, 35% mor...</td>\n",
       "      <td>Megared</td>\n",
       "      <td>None</td>\n",
       "      <td>us</td>\n",
       "    </tr>\n",
       "    <tr>\n",
       "      <th>275930</th>\n",
       "      <td>B07PJDBFM9</td>\n",
       "      <td>Marvel Captain America Avengers Shield Waterco...</td>\n",
       "      <td>None</td>\n",
       "      <td>Captain America shirt, Captain America shirt f...</td>\n",
       "      <td>Marvel</td>\n",
       "      <td>Black</td>\n",
       "      <td>us</td>\n",
       "    </tr>\n",
       "  </tbody>\n",
       "</table>\n",
       "</div>"
      ],
      "text/plain": [
       "         product_id                                      product_title  \\\n",
       "1590968  B07SYNPCNH  Chihee Hammock Chair Super Large Hanging Chair...   \n",
       "1129378  B0841N8V7H  montesoro 単品 すき率10％ すきばさみ ヘアカット 美容師 散髪 セニング セル...   \n",
       "1022068  B087P27YWM                半ズボン 夏 速乾 おしゃれ 男 無地 ゆったり 通気性 gray M   \n",
       "926527   B01BUROE6W  Omega-3 Krill Oil 750mg Supplement- Megared Ul...   \n",
       "275930   B07PJDBFM9  Marvel Captain America Avengers Shield Waterco...   \n",
       "\n",
       "                                       product_description  \\\n",
       "1590968  Warning!<br><br> Do not spin or swing in your ...   \n",
       "1129378  世界の最高級と謳われた 錆びにくく、切れ味が継続する素材、ステンレス炭素鉱440Cを採用　 ...   \n",
       "1022068                                               None   \n",
       "926527                                                None   \n",
       "275930                                                None   \n",
       "\n",
       "                                      product_bullet_point product_brand  \\\n",
       "1590968  Most Relaxing.Hanging chairs are the trend of ...        Chihee   \n",
       "1129378  簡単♪プロ仕様カット】自宅で手軽にカット出来るプロ仕様\\n【素材へのこだわり】錆びにくい高い...     montesoro   \n",
       "1022068  ★ 注意：日本通常サイズより1~2サイズ大きめなので、いつもより1~2つ小さいサイズのご購入...     SWRIKIIEF   \n",
       "926527   Ultra concentrate 100% pure Krill oil, 35% mor...       Megared   \n",
       "275930   Captain America shirt, Captain America shirt f...        Marvel   \n",
       "\n",
       "         product_color product_locale  \n",
       "1590968  Natural White             us  \n",
       "1129378           None             jp  \n",
       "1022068          グレー-3             jp  \n",
       "926527            None             us  \n",
       "275930           Black             us  "
      ]
     },
     "execution_count": 34,
     "metadata": {},
     "output_type": "execute_result"
    }
   ],
   "source": [
    "df_products.sample(5)"
   ]
  },
  {
   "cell_type": "markdown",
   "metadata": {},
   "source": [
    "---"
   ]
  },
  {
   "cell_type": "markdown",
   "metadata": {},
   "source": [
    "### Merge Products and Queries"
   ]
  },
  {
   "cell_type": "code",
   "execution_count": 35,
   "metadata": {},
   "outputs": [
    {
     "name": "stdout",
     "output_type": "stream",
     "text": [
      "Number of rows in examples_products: 2_621_288\n"
     ]
    }
   ],
   "source": [
    "df_examples_products = pd.merge(\n",
    "    df_examples,\n",
    "    df_products,\n",
    "    how=\"left\",\n",
    "    left_on=[\"product_locale\", \"product_id\"],\n",
    "    right_on=[\"product_locale\", \"product_id\"],\n",
    ")\n",
    "print(f\"Number of rows in examples_products: {len(df_examples_products):_}\")"
   ]
  },
  {
   "cell_type": "code",
   "execution_count": 36,
   "metadata": {},
   "outputs": [
    {
     "data": {
      "text/html": [
       "<div>\n",
       "<style scoped>\n",
       "    .dataframe tbody tr th:only-of-type {\n",
       "        vertical-align: middle;\n",
       "    }\n",
       "\n",
       "    .dataframe tbody tr th {\n",
       "        vertical-align: top;\n",
       "    }\n",
       "\n",
       "    .dataframe thead th {\n",
       "        text-align: right;\n",
       "    }\n",
       "</style>\n",
       "<table border=\"1\" class=\"dataframe\">\n",
       "  <thead>\n",
       "    <tr style=\"text-align: right;\">\n",
       "      <th></th>\n",
       "      <th>example_id</th>\n",
       "      <th>query</th>\n",
       "      <th>query_id</th>\n",
       "      <th>product_id</th>\n",
       "      <th>product_locale</th>\n",
       "      <th>esci_label</th>\n",
       "      <th>small_version</th>\n",
       "      <th>large_version</th>\n",
       "      <th>split</th>\n",
       "      <th>product_title</th>\n",
       "      <th>product_description</th>\n",
       "      <th>product_bullet_point</th>\n",
       "      <th>product_brand</th>\n",
       "      <th>product_color</th>\n",
       "    </tr>\n",
       "  </thead>\n",
       "  <tbody>\n",
       "    <tr>\n",
       "      <th>1503164</th>\n",
       "      <td>1503164</td>\n",
       "      <td>otterbox oneplus 6</td>\n",
       "      <td>76463</td>\n",
       "      <td>B07DW85TFD</td>\n",
       "      <td>us</td>\n",
       "      <td>E</td>\n",
       "      <td>0</td>\n",
       "      <td>1</td>\n",
       "      <td>train</td>\n",
       "      <td>OTTERBOX Commuter Series Case for OnePlus 6 - ...</td>\n",
       "      <td>None</td>\n",
       "      <td>Compatible with OnePlus 6\\nDOES NOT come with ...</td>\n",
       "      <td>OtterBox</td>\n",
       "      <td>BLACK</td>\n",
       "    </tr>\n",
       "    <tr>\n",
       "      <th>2129218</th>\n",
       "      <td>2129218</td>\n",
       "      <td>vmax charizard</td>\n",
       "      <td>109062</td>\n",
       "      <td>B09JGBLDPN</td>\n",
       "      <td>us</td>\n",
       "      <td>E</td>\n",
       "      <td>0</td>\n",
       "      <td>1</td>\n",
       "      <td>train</td>\n",
       "      <td>kekafu 4Pcs Charizard Pokemon Metal Gold Plate...</td>\n",
       "      <td>&lt;p&gt;100% brand new and high quality&lt;/p&gt; &lt;p&gt;&lt;/p&gt;...</td>\n",
       "      <td>Customized Pokemon Cards Monolithic size: 3.46...</td>\n",
       "      <td>kekafu</td>\n",
       "      <td>None</td>\n",
       "    </tr>\n",
       "    <tr>\n",
       "      <th>873666</th>\n",
       "      <td>873666</td>\n",
       "      <td>g string for women sexy slutty</td>\n",
       "      <td>43763</td>\n",
       "      <td>B072BSJ4WH</td>\n",
       "      <td>us</td>\n",
       "      <td>E</td>\n",
       "      <td>0</td>\n",
       "      <td>1</td>\n",
       "      <td>train</td>\n",
       "      <td>Oneheekini Women Sexy See Through Mini Micro B...</td>\n",
       "      <td>Hot G-String Bottom:The bottom of this bikini ...</td>\n",
       "      <td>High Quality Cotton:The material of this mini ...</td>\n",
       "      <td>Oneheekini</td>\n",
       "      <td>White</td>\n",
       "    </tr>\n",
       "    <tr>\n",
       "      <th>1179758</th>\n",
       "      <td>1179758</td>\n",
       "      <td>lamparas infantiles</td>\n",
       "      <td>59758</td>\n",
       "      <td>B06WXXDD38</td>\n",
       "      <td>es</td>\n",
       "      <td>E</td>\n",
       "      <td>0</td>\n",
       "      <td>1</td>\n",
       "      <td>train</td>\n",
       "      <td>Malovecf - Lámpara de techo para dormitorio do...</td>\n",
       "      <td>Lámpara de techo: plancha de techo. &lt;br/&gt;Mater...</td>\n",
       "      <td>Montaje sencillo, fácil de instalar.\\nEmbalaje...</td>\n",
       "      <td>Malovecf</td>\n",
       "      <td>Rosa.</td>\n",
       "    </tr>\n",
       "    <tr>\n",
       "      <th>2579498</th>\n",
       "      <td>2579498</td>\n",
       "      <td>肉</td>\n",
       "      <td>129030</td>\n",
       "      <td>B00H8MWC04</td>\n",
       "      <td>jp</td>\n",
       "      <td>E</td>\n",
       "      <td>0</td>\n",
       "      <td>1</td>\n",
       "      <td>train</td>\n",
       "      <td>【桐箱入り】松阪牛 黄金 特選すき焼き 800g すき焼き 牛肉 肉 お歳暮 ギフト しゃぶ...</td>\n",
       "      <td>名称：松阪牛黄金の特選すき焼き 生産地：三重県 内容量：800g 賞味期限：冷凍にて約30日...</td>\n",
       "      <td>正午までのご注文で即日発送！(※休業日を除く/ご指定日不可)\\nヤマト運輸クール冷凍便 (送...</td>\n",
       "      <td>松阪牛</td>\n",
       "      <td>None</td>\n",
       "    </tr>\n",
       "  </tbody>\n",
       "</table>\n",
       "</div>"
      ],
      "text/plain": [
       "         example_id                           query  query_id  product_id  \\\n",
       "1503164     1503164              otterbox oneplus 6     76463  B07DW85TFD   \n",
       "2129218     2129218                  vmax charizard    109062  B09JGBLDPN   \n",
       "873666       873666  g string for women sexy slutty     43763  B072BSJ4WH   \n",
       "1179758     1179758             lamparas infantiles     59758  B06WXXDD38   \n",
       "2579498     2579498                               肉    129030  B00H8MWC04   \n",
       "\n",
       "        product_locale esci_label  small_version  large_version  split  \\\n",
       "1503164             us          E              0              1  train   \n",
       "2129218             us          E              0              1  train   \n",
       "873666              us          E              0              1  train   \n",
       "1179758             es          E              0              1  train   \n",
       "2579498             jp          E              0              1  train   \n",
       "\n",
       "                                             product_title  \\\n",
       "1503164  OTTERBOX Commuter Series Case for OnePlus 6 - ...   \n",
       "2129218  kekafu 4Pcs Charizard Pokemon Metal Gold Plate...   \n",
       "873666   Oneheekini Women Sexy See Through Mini Micro B...   \n",
       "1179758  Malovecf - Lámpara de techo para dormitorio do...   \n",
       "2579498  【桐箱入り】松阪牛 黄金 特選すき焼き 800g すき焼き 牛肉 肉 お歳暮 ギフト しゃぶ...   \n",
       "\n",
       "                                       product_description  \\\n",
       "1503164                                               None   \n",
       "2129218  <p>100% brand new and high quality</p> <p></p>...   \n",
       "873666   Hot G-String Bottom:The bottom of this bikini ...   \n",
       "1179758  Lámpara de techo: plancha de techo. <br/>Mater...   \n",
       "2579498  名称：松阪牛黄金の特選すき焼き 生産地：三重県 内容量：800g 賞味期限：冷凍にて約30日...   \n",
       "\n",
       "                                      product_bullet_point product_brand  \\\n",
       "1503164  Compatible with OnePlus 6\\nDOES NOT come with ...      OtterBox   \n",
       "2129218  Customized Pokemon Cards Monolithic size: 3.46...        kekafu   \n",
       "873666   High Quality Cotton:The material of this mini ...    Oneheekini   \n",
       "1179758  Montaje sencillo, fácil de instalar.\\nEmbalaje...      Malovecf   \n",
       "2579498  正午までのご注文で即日発送！(※休業日を除く/ご指定日不可)\\nヤマト運輸クール冷凍便 (送...           松阪牛   \n",
       "\n",
       "        product_color  \n",
       "1503164         BLACK  \n",
       "2129218          None  \n",
       "873666          White  \n",
       "1179758         Rosa.  \n",
       "2579498          None  "
      ]
     },
     "execution_count": 36,
     "metadata": {},
     "output_type": "execute_result"
    }
   ],
   "source": [
    "df_examples_products.sample(5)"
   ]
  },
  {
   "cell_type": "code",
   "execution_count": null,
   "metadata": {},
   "outputs": [
    {
     "data": {
      "text/plain": [
       "array(['train', 'test'], dtype=object)"
      ]
     },
     "execution_count": 52,
     "metadata": {},
     "output_type": "execute_result"
    }
   ],
   "source": [
    "df_examples_products[\"split\"].unique()"
   ]
  },
  {
   "cell_type": "code",
   "execution_count": 53,
   "metadata": {},
   "outputs": [
    {
     "name": "stdout",
     "output_type": "stream",
     "text": [
      "Number of train examples: 1_983_272\n",
      "Number of test examples: 638_016\n"
     ]
    }
   ],
   "source": [
    "print(\n",
    "    f\"Number of train examples: {len(df_examples_products[df_examples_products['split'] == 'train']):_}\"\n",
    ")\n",
    "print(\n",
    "    f\"Number of test examples: {len(df_examples_products[df_examples_products['split'] == 'test']):_}\"\n",
    ")"
   ]
  },
  {
   "cell_type": "markdown",
   "metadata": {},
   "source": [
    "---"
   ]
  },
  {
   "cell_type": "markdown",
   "metadata": {},
   "source": [
    "### Upload to HF"
   ]
  },
  {
   "cell_type": "code",
   "execution_count": 50,
   "metadata": {},
   "outputs": [],
   "source": [
    "dataset_id = \"Studeni/amazon-esci-data\""
   ]
  },
  {
   "cell_type": "code",
   "execution_count": 54,
   "metadata": {},
   "outputs": [],
   "source": [
    "dataset = DatasetDict(\n",
    "    {\n",
    "        \"train\": Dataset.from_pandas(\n",
    "            df_examples_products[df_examples_products[\"split\"] == \"train\"]\n",
    "        ),\n",
    "        \"test\": Dataset.from_pandas(\n",
    "            df_examples_products[df_examples_products[\"split\"] == \"test\"]\n",
    "        ),\n",
    "    }\n",
    ")"
   ]
  },
  {
   "cell_type": "code",
   "execution_count": 55,
   "metadata": {},
   "outputs": [
    {
     "data": {
      "text/plain": [
       "DatasetDict({\n",
       "    train: Dataset({\n",
       "        features: ['example_id', 'query', 'query_id', 'product_id', 'product_locale', 'esci_label', 'small_version', 'large_version', 'split', 'product_title', 'product_description', 'product_bullet_point', 'product_brand', 'product_color', '__index_level_0__'],\n",
       "        num_rows: 1983272\n",
       "    })\n",
       "    test: Dataset({\n",
       "        features: ['example_id', 'query', 'query_id', 'product_id', 'product_locale', 'esci_label', 'small_version', 'large_version', 'split', 'product_title', 'product_description', 'product_bullet_point', 'product_brand', 'product_color', '__index_level_0__'],\n",
       "        num_rows: 638016\n",
       "    })\n",
       "})"
      ]
     },
     "execution_count": 55,
     "metadata": {},
     "output_type": "execute_result"
    }
   ],
   "source": [
    "dataset"
   ]
  },
  {
   "cell_type": "code",
   "execution_count": null,
   "metadata": {},
   "outputs": [],
   "source": [
    "dataset.push_to_hub(repo_id=dataset_id)"
   ]
  },
  {
   "cell_type": "markdown",
   "metadata": {},
   "source": [
    "---"
   ]
  },
  {
   "cell_type": "markdown",
   "metadata": {},
   "source": [
    "## Soruces"
   ]
  },
  {
   "cell_type": "code",
   "execution_count": 26,
   "metadata": {},
   "outputs": [
    {
     "name": "stdout",
     "output_type": "stream",
     "text": [
      "Number of rows in sources: 130_652\n"
     ]
    }
   ],
   "source": [
    "df_sources = pd.read_csv(dataset_sources)\n",
    "print(f\"Number of rows in sources: {len(df_sources):_}\")"
   ]
  },
  {
   "cell_type": "code",
   "execution_count": null,
   "metadata": {},
   "outputs": [
    {
     "data": {
      "text/plain": [
       "array(['other', 'negations', 'behavioral', 'parse_pattern', 'nlqec'],\n",
       "      dtype=object)"
      ]
     },
     "execution_count": 49,
     "metadata": {},
     "output_type": "execute_result"
    }
   ],
   "source": [
    "df_sources[\"source\"].unique()"
   ]
  }
 ],
 "metadata": {
  "kernelspec": {
   "display_name": ".venv",
   "language": "python",
   "name": "python3"
  },
  "language_info": {
   "codemirror_mode": {
    "name": "ipython",
    "version": 3
   },
   "file_extension": ".py",
   "mimetype": "text/x-python",
   "name": "python",
   "nbconvert_exporter": "python",
   "pygments_lexer": "ipython3",
   "version": "3.10.13"
  }
 },
 "nbformat": 4,
 "nbformat_minor": 2
}
